{
  "cells": [
    {
      "cell_type": "code",
      "execution_count": null,
      "id": "41c464b6",
      "metadata": {
        "id": "41c464b6"
      },
      "outputs": [],
      "source": [
        "import os\n",
        "import math\n",
        "import random\n",
        "from PIL import Image\n",
        "import matplotlib.pyplot as plt"
      ]
    },
    {
      "cell_type": "code",
      "execution_count": null,
      "id": "4cfdd789",
      "metadata": {
        "id": "4cfdd789"
      },
      "outputs": [],
      "source": [
        "def load_data_from_folder(folder, label, max_img=50, img_size=(32,32)):\n",
        "    X, y = [], []\n",
        "    count = 0\n",
        "    for fname in os.listdir(folder):\n",
        "        if fname.endswith('.jpg') or fname.endswith('.png'):\n",
        "            path = os.path.join(folder, fname)\n",
        "            img = Image.open(path).convert('L').resize(img_size)\n",
        "            arr = [[img.getpixel((j, i))/255.0 for j in range(img_size[1])] for i in range(img_size[0])]\n",
        "            X.append([arr]) # [1][H][W]\n",
        "            y.append(label)\n",
        "            count += 1\n",
        "            if count >= max_img:\n",
        "                break\n",
        "    return X, y"
      ]
    },
    {
      "cell_type": "code",
      "execution_count": null,
      "id": "3f61e30f",
      "metadata": {
        "id": "3f61e30f"
      },
      "outputs": [],
      "source": [
        "class Conv2D:\n",
        "    def __init__(self, in_size, kernel_size, filters):\n",
        "        self.kernel_size = kernel_size\n",
        "        self.filters = filters\n",
        "        self.kernels = [[[[\n",
        "            random.uniform(-0.1, 0.1) for _ in range(kernel_size)\n",
        "        ] for _ in range(kernel_size)] for _ in range(1)] for _ in range(filters)]\n",
        "        self.bias = [random.uniform(-0.05, 0.05) for _ in range(filters)]\n",
        "    def forward(self, x):\n",
        "        h = len(x[0])\n",
        "        w = len(x[0][0])\n",
        "        out_size = h - self.kernel_size + 1\n",
        "        out = [[[0 for _ in range(out_size)] for _ in range(out_size)] for _ in range(self.filters)]\n",
        "        for f in range(self.filters):\n",
        "            for i in range(out_size):\n",
        "                for j in range(out_size):\n",
        "                    s = 0\n",
        "                    for ki in range(self.kernel_size):\n",
        "                        for kj in range(self.kernel_size):\n",
        "                            s += x[0][i+ki][j+kj] * self.kernels[f][0][ki][kj]\n",
        "                    out[f][i][j] = s + self.bias[f]\n",
        "        return out\n"
      ]
    },
    {
      "cell_type": "code",
      "execution_count": null,
      "id": "037800a9",
      "metadata": {
        "id": "037800a9"
      },
      "outputs": [],
      "source": [
        "class MaxPool2D:\n",
        "    def __init__(self, pool_size):\n",
        "        self.pool_size = pool_size\n",
        "    def forward(self, x):\n",
        "        C = len(x)\n",
        "        H = len(x[0])\n",
        "        W = len(x[0][0])\n",
        "        out_H = H // self.pool_size\n",
        "        out_W = W // self.pool_size\n",
        "        out = [[[0 for _ in range(out_W)] for _ in range(out_H)] for _ in range(C)]\n",
        "        for c in range(C):\n",
        "            for i in range(out_H):\n",
        "                for j in range(out_W):\n",
        "                    mx = -math.inf\n",
        "                    for pi in range(self.pool_size):\n",
        "                        for pj in range(self.pool_size):\n",
        "                            mx = max(mx, x[c][i*self.pool_size+pi][j*self.pool_size+pj])\n",
        "                    out[c][i][j] = mx\n",
        "        return out\n"
      ]
    },
    {
      "cell_type": "code",
      "execution_count": null,
      "id": "e2bee565",
      "metadata": {
        "id": "e2bee565"
      },
      "outputs": [],
      "source": [
        "class Flatten:\n",
        "    def forward(self, x):\n",
        "        return [v for c in x for row in c for v in row]\n"
      ]
    },
    {
      "cell_type": "code",
      "execution_count": null,
      "id": "6069734f",
      "metadata": {
        "id": "6069734f"
      },
      "outputs": [],
      "source": [
        "class Dense:\n",
        "    def __init__(self, in_features, out_features):\n",
        "        self.in_features = in_features\n",
        "        self.out_features = out_features\n",
        "        self.weights = [[random.uniform(-0.1, 0.1) for _ in range(in_features)] for _ in range(out_features)]\n",
        "        self.bias = [random.uniform(-0.05, 0.05) for _ in range(out_features)]\n",
        "        self.last_input = None\n",
        "    def forward(self, x):\n",
        "        self.last_input = x\n",
        "        return [sum(self.weights[i][j]*x[j] for j in range(self.in_features)) + self.bias[i] for i in range(self.out_features)]\n",
        "    def backward(self, grad_out, lr):\n",
        "        for i in range(self.out_features):\n",
        "            for j in range(self.in_features):\n",
        "                self.weights[i][j] -= lr * grad_out[i] * self.last_input[j]\n",
        "            self.bias[i] -= lr * grad_out[i]"
      ]
    },
    {
      "cell_type": "code",
      "execution_count": null,
      "id": "d7447259",
      "metadata": {
        "id": "d7447259"
      },
      "outputs": [],
      "source": [
        "def relu(x):\n",
        "    if isinstance(x[0], list):\n",
        "        return [relu(sub) for sub in x]\n",
        "    return [max(0, v) for v in x]\n",
        "\n",
        "\n"
      ]
    },
    {
      "cell_type": "code",
      "execution_count": null,
      "id": "47329c5e",
      "metadata": {
        "id": "47329c5e"
      },
      "outputs": [],
      "source": [
        "def softmax(x):\n",
        "    m = max(x)\n",
        "    exps = [math.exp(i-m) for i in x]\n",
        "    sum_exps = sum(exps)\n",
        "    return [e/sum_exps for e in exps]\n",
        "\n"
      ]
    },
    {
      "cell_type": "code",
      "execution_count": null,
      "id": "3831754c",
      "metadata": {
        "id": "3831754c"
      },
      "outputs": [],
      "source": [
        "def cross_entropy(pred, label):\n",
        "    eps = 1e-10\n",
        "    return -math.log(pred[label] + eps)\n",
        "\n"
      ]
    },
    {
      "cell_type": "code",
      "execution_count": null,
      "id": "d6248ced",
      "metadata": {
        "id": "d6248ced"
      },
      "outputs": [],
      "source": [
        "def cross_entropy_grad(pred, label):\n",
        "    grad = [p for p in pred]\n",
        "    grad[label] -= 1\n",
        "    return grad\n",
        "\n"
      ]
    },
    {
      "cell_type": "code",
      "execution_count": null,
      "id": "e99f93df",
      "metadata": {
        "id": "e99f93df"
      },
      "outputs": [],
      "source": [
        "def get_flatten_size(img_size):\n",
        "    size = img_size\n",
        "    size = (size - 3 + 1) // 2\n",
        "    return size * size * 8"
      ]
    },
    {
      "cell_type": "code",
      "execution_count": null,
      "id": "3706c8d9",
      "metadata": {
        "id": "3706c8d9"
      },
      "outputs": [],
      "source": [
        "FOLDER_LIST = [\n",
        "    (\"..../other_activities\", 0),\n",
        "    (\"..../safe_driving\", 1),\n",
        "    (\"..../talking_phone\", 2),\n",
        "    (\"..../texting_phone\", 3),\n",
        "    (\"..../turning\", 4),\n",
        "]\n",
        "img_size = 32  # hoặc 28, 64... tùy tài nguyên\n",
        "X, y = [], []\n",
        "for folder, label in FOLDER_LIST:\n",
        "    Xi, yi = load_data_from_folder(folder, label, max_img=50, img_size=(img_size,img_size))\n",
        "    X.extend(Xi)\n",
        "    y.extend(yi)\n",
        "# Shuffle\n",
        "data = list(zip(X, y))\n",
        "random.shuffle(data)\n",
        "X, y = zip(*data)\n",
        "n_train = int(len(X)*0.8)\n",
        "X_train, y_train = X[:n_train], y[:n_train]\n",
        "X_test, y_test = X[n_train:], y[n_train:]"
      ]
    },
    {
      "cell_type": "code",
      "execution_count": null,
      "id": "c4564fa6",
      "metadata": {
        "id": "c4564fa6"
      },
      "outputs": [],
      "source": [
        "num_classes = 5\n",
        "epochs = 10\n",
        "lr = 0.001"
      ]
    },
    {
      "cell_type": "code",
      "execution_count": null,
      "id": "2c1c960a",
      "metadata": {
        "id": "2c1c960a"
      },
      "outputs": [],
      "source": [
        "conv1 = Conv2D(img_size, 3, 8)\n",
        "pool1 = MaxPool2D(2)\n",
        "flatten = Flatten()\n",
        "flatten_size = get_flatten_size(img_size)\n",
        "dense1 = Dense(flatten_size, num_classes)"
      ]
    },
    {
      "cell_type": "code",
      "execution_count": null,
      "id": "bb755c37",
      "metadata": {
        "id": "bb755c37"
      },
      "outputs": [],
      "source": [
        "for ep in range(epochs):\n",
        "    total_loss = 0\n",
        "    for xi, yi in zip(X_train, y_train):\n",
        "        x = conv1.forward(xi)\n",
        "        x = relu(x)\n",
        "        x = pool1.forward(x)\n",
        "        x = flatten.forward(x)\n",
        "        logits = dense1.forward(x)\n",
        "        probs = softmax(logits)\n",
        "        loss = cross_entropy(probs, yi)\n",
        "        total_loss += loss\n",
        "        grad_logits = cross_entropy_grad(probs, yi)\n",
        "        dense1.backward(grad_logits, lr)\n",
        "    print(f\"Epoch {ep+1}, Loss: {total_loss/len(X_train):.4f}\")"
      ]
    },
    {
      "cell_type": "code",
      "execution_count": null,
      "id": "9c42002f",
      "metadata": {
        "id": "9c42002f"
      },
      "outputs": [],
      "source": [
        "plt.figure(figsize=(12,6))\n",
        "for i in range(min(8, len(X_test))):\n",
        "    x = conv1.forward(X_test[i])\n",
        "    x = relu(x)\n",
        "    x = pool1.forward(x)\n",
        "    x = flatten.forward(x)\n",
        "    logits = dense1.forward(x)\n",
        "    probs = softmax(logits)\n",
        "    pred = probs.index(max(probs))\n",
        "    plt.subplot(2,4,i+1)\n",
        "    plt.imshow(X_test[i][0], cmap='gray')\n",
        "    plt.title(f\"Pred:{pred}  True:{y_test[i]}\")\n",
        "    plt.axis('off')\n",
        "plt.tight_layout()\n",
        "plt.show()"
      ]
    }
  ],
  "metadata": {
    "kernelspec": {
      "display_name": "Python 3",
      "language": "python",
      "name": "python3"
    },
    "language_info": {
      "codemirror_mode": {
        "name": "ipython",
        "version": 3
      },
      "file_extension": ".py",
      "mimetype": "text/x-python",
      "name": "python",
      "nbconvert_exporter": "python",
      "pygments_lexer": "ipython3",
      "version": "3.11.1"
    },
    "colab": {
      "provenance": []
    }
  },
  "nbformat": 4,
  "nbformat_minor": 5
}